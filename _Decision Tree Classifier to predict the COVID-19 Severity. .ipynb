{
 "cells": [
  {
   "cell_type": "code",
   "execution_count": 3,
   "id": "a6100ebf",
   "metadata": {},
   "outputs": [
    {
     "name": "stdout",
     "output_type": "stream",
     "text": [
      "   Fever  Tiredness  Dry-Cough  Difficulty-in-Breathing  Sore-Throat  \\\n",
      "0      1          1          1                        1            1   \n",
      "1      1          1          1                        1            1   \n",
      "\n",
      "   None_Sympton  Pains  Nasal-Congestion  Runny-Nose  Diarrhea  ...  \\\n",
      "0             0      1                 1           1         1  ...   \n",
      "1             0      1                 1           1         1  ...   \n",
      "\n",
      "   Gender_Male  Gender_Transgender  Severity_Mild  Severity_Moderate  \\\n",
      "0            1                   0              1                  0   \n",
      "1            1                   0              1                  0   \n",
      "\n",
      "   Severity_None  Severity_Severe  Contact_Dont-Know  Contact_No  Contact_Yes  \\\n",
      "0              0                0                  0           0            1   \n",
      "1              0                0                  0           1            0   \n",
      "\n",
      "   Country  \n",
      "0    China  \n",
      "1    China  \n",
      "\n",
      "[2 rows x 27 columns]\n"
     ]
    }
   ],
   "source": [
    "import pandas as pd\n",
    "from sklearn.model_selection import train_test_split\n",
    "from sklearn import metrics\n",
    "covid=pd.read_csv(\"Cleaned-Data.csv\")\n",
    "print(covid.head(2))"
   ]
  },
  {
   "cell_type": "markdown",
   "id": "87d7ed11",
   "metadata": {},
   "source": [
    "## defining X and Y"
   ]
  },
  {
   "cell_type": "code",
   "execution_count": 21,
   "id": "3e8fa4e3",
   "metadata": {},
   "outputs": [
    {
     "name": "stdout",
     "output_type": "stream",
     "text": [
      "        Fever  Tiredness  Dry-Cough  Difficulty-in-Breathing  Pains  \\\n",
      "0           1          1          1                        1      1   \n",
      "1           1          1          1                        1      1   \n",
      "2           1          1          1                        1      1   \n",
      "3           1          1          1                        1      1   \n",
      "4           1          1          1                        1      1   \n",
      "...       ...        ...        ...                      ...    ...   \n",
      "316795      0          0          0                        0      0   \n",
      "316796      0          0          0                        0      0   \n",
      "316797      0          0          0                        0      0   \n",
      "316798      0          0          0                        0      0   \n",
      "316799      0          0          0                        0      0   \n",
      "\n",
      "        Nasal-Congestion  Runny-Nose  Diarrhea  \n",
      "0                      1           1         1  \n",
      "1                      1           1         1  \n",
      "2                      1           1         1  \n",
      "3                      1           1         1  \n",
      "4                      1           1         1  \n",
      "...                  ...         ...       ...  \n",
      "316795                 0           0         0  \n",
      "316796                 0           0         0  \n",
      "316797                 0           0         0  \n",
      "316798                 0           0         0  \n",
      "316799                 0           0         0  \n",
      "\n",
      "[316800 rows x 8 columns]\n"
     ]
    }
   ],
   "source": [
    "#defining X and Y\n",
    "feature_cols=['Fever','Tiredness','Dry-Cough','Sore-Throat','Difficulty-in-Breathing','Pains','Nasal-Congestion','Runny-Nose','Diarrhea']\n",
    "#As X is a matrix so we use [] to access the features we want in feature_cols\n",
    "X=covid[feature_cols]\n",
    "print(X)\n"
   ]
  },
  {
   "cell_type": "code",
   "execution_count": 23,
   "id": "19262d86",
   "metadata": {},
   "outputs": [
    {
     "name": "stdout",
     "output_type": "stream",
     "text": [
      "0         0\n",
      "1         0\n",
      "2         0\n",
      "3         0\n",
      "4         0\n",
      "         ..\n",
      "316795    1\n",
      "316796    1\n",
      "316797    0\n",
      "316798    0\n",
      "316799    0\n",
      "Name: Severity_Severe, Length: 316800, dtype: int64\n"
     ]
    }
   ],
   "source": [
    "#y is a vector ,so we can use dot to access 'Severity_Severe'\n",
    "Y=covid.Severity_Severe\n",
    "print(Y)"
   ]
  },
  {
   "cell_type": "markdown",
   "id": "284a25e9",
   "metadata": {},
   "source": [
    "## Splitting X and Y into training and testing data"
   ]
  },
  {
   "cell_type": "code",
   "execution_count": 24,
   "id": "23788834",
   "metadata": {},
   "outputs": [],
   "source": [
    "X_train,X_test,Y_train,Y_test=train_test_split(X,Y,random_state=0,train_size=0.8)"
   ]
  },
  {
   "cell_type": "markdown",
   "id": "17538eb6",
   "metadata": {},
   "source": [
    "## Importing Decision Tree Classifier from sklearn"
   ]
  },
  {
   "cell_type": "code",
   "execution_count": 25,
   "id": "faff531c",
   "metadata": {},
   "outputs": [],
   "source": [
    "from sklearn.tree import DecisionTreeClassifier"
   ]
  },
  {
   "cell_type": "code",
   "execution_count": 26,
   "id": "ea02f4fc",
   "metadata": {},
   "outputs": [],
   "source": [
    "clf=DecisionTreeClassifier(criterion='entropy')"
   ]
  },
  {
   "cell_type": "markdown",
   "id": "6d3ff4f8",
   "metadata": {},
   "source": [
    "## Training Decision Tree Classifier"
   ]
  },
  {
   "cell_type": "code",
   "execution_count": 27,
   "id": "af922e04",
   "metadata": {},
   "outputs": [
    {
     "data": {
      "text/plain": [
       "DecisionTreeClassifier(criterion='entropy')"
      ]
     },
     "execution_count": 27,
     "metadata": {},
     "output_type": "execute_result"
    }
   ],
   "source": [
    "clf.fit(X_train,Y_train)"
   ]
  },
  {
   "cell_type": "code",
   "execution_count": 28,
   "id": "818883e5",
   "metadata": {},
   "outputs": [],
   "source": [
    "#predicting the labels on test set\n",
    "y_pred=clf.predict(X_test)"
   ]
  },
  {
   "cell_type": "markdown",
   "id": "e3979122",
   "metadata": {},
   "source": [
    "## Calculating Accuracy"
   ]
  },
  {
   "cell_type": "code",
   "execution_count": 48,
   "id": "6d6eb725",
   "metadata": {},
   "outputs": [
    {
     "name": "stdout",
     "output_type": "stream",
     "text": [
      "Accuracy Score on test data is: 74.96527777777777\n"
     ]
    }
   ],
   "source": [
    "from sklearn import metrics\n",
    "print('Accuracy Score on test data is:',metrics.accuracy_score(Y_test,y_pred)*100)"
   ]
  },
  {
   "cell_type": "code",
   "execution_count": 49,
   "id": "998fb50f",
   "metadata": {},
   "outputs": [
    {
     "name": "stdout",
     "output_type": "stream",
     "text": [
      "[[47498     0]\n",
      " [15862     0]]\n"
     ]
    }
   ],
   "source": [
    "print(metrics.confusion_matrix(Y_test,y_pred))"
   ]
  },
  {
   "cell_type": "code",
   "execution_count": 43,
   "id": "fa8fa949",
   "metadata": {},
   "outputs": [
    {
     "name": "stdout",
     "output_type": "stream",
     "text": [
      "[[47498     0]\n",
      " [15862     0]]\n"
     ]
    }
   ],
   "source": [
    "#save confusion matrix and slice into four pieces\n",
    "confusion=metrics.confusion_matrix(Y_test,y_pred)\n",
    "print(confusion)\n",
    "TP=confusion[1,1]\n",
    "TN=confusion[0,0]\n",
    "FP=confusion[0,1]\n",
    "FN=confusion[1,0]\n"
   ]
  },
  {
   "cell_type": "code",
   "execution_count": 62,
   "id": "7d31a6b2",
   "metadata": {},
   "outputs": [
    {
     "name": "stdout",
     "output_type": "stream",
     "text": [
      "0.7496527777777777\n",
      "Accuracy Score on confusion_matrix is: 0.7496527777777777\n"
     ]
    }
   ],
   "source": [
    "#use float to perform true division,not integer division\n",
    "#from sklearn import metrics\n",
    "from sklearn.metrics import accuracy_score\n",
    "print((TP+TN)/float(TP+TN+FP+FN))\n",
    "print('Accuracy Score on confusion_matrix is:',accuracy_score(Y_test,y_pred,normalize=True,sample_weight=None))"
   ]
  },
  {
   "cell_type": "code",
   "execution_count": 61,
   "id": "420bb628",
   "metadata": {},
   "outputs": [
    {
     "name": "stdout",
     "output_type": "stream",
     "text": [
      "0.2503472222222222\n",
      "Error Score on confusion matrix: 0.2503472222222223\n"
     ]
    }
   ],
   "source": [
    "classification_error=(FP+FN)/float(TP+TN+FP+FN)\n",
    "print(classification_error)\n",
    "print('Error Score on confusion matrix:',1-metrics.accuracy_score(Y_test,y_pred))"
   ]
  },
  {
   "cell_type": "code",
   "execution_count": 63,
   "id": "015d34e7",
   "metadata": {},
   "outputs": [
    {
     "name": "stdout",
     "output_type": "stream",
     "text": [
      "0.0\n",
      "sensitivity Score on confusion matrix: 0.0\n"
     ]
    }
   ],
   "source": [
    "sensitivity=TP/float(FN+TP)\n",
    "print(sensitivity)\n",
    "print('sensitivity Score on confusion matrix:',metrics.recall_score(Y_test,y_pred))"
   ]
  },
  {
   "cell_type": "code",
   "execution_count": 64,
   "id": "d509b91a",
   "metadata": {},
   "outputs": [
    {
     "name": "stdout",
     "output_type": "stream",
     "text": [
      "1.0\n",
      "specificity Score on confusion_matrix: 1.0\n"
     ]
    }
   ],
   "source": [
    "specificity=TN/(TN+FP)\n",
    "print(specificity)\n",
    "print('specificity Score on confusion_matrix:',specificity)"
   ]
  },
  {
   "cell_type": "code",
   "execution_count": 65,
   "id": "c2aab74c",
   "metadata": {},
   "outputs": [
    {
     "name": "stdout",
     "output_type": "stream",
     "text": [
      "nan\n",
      "precision Score on confusion matrix: 0.0\n"
     ]
    },
    {
     "name": "stderr",
     "output_type": "stream",
     "text": [
      "<ipython-input-65-78085f27110a>:1: RuntimeWarning: invalid value encountered in true_divide\n",
      "  precision=TP/float(TP+FP)\n",
      "C:\\Users\\Priyanka Kumari\\anaconda3\\lib\\site-packages\\sklearn\\metrics\\_classification.py:1245: UndefinedMetricWarning: Precision is ill-defined and being set to 0.0 due to no predicted samples. Use `zero_division` parameter to control this behavior.\n",
      "  _warn_prf(average, modifier, msg_start, len(result))\n"
     ]
    }
   ],
   "source": [
    "precision=TP/float(TP+FP)\n",
    "print(precision)\n",
    "print('precision Score on confusion matrix:',metrics.precision_score(Y_test,y_pred))"
   ]
  },
  {
   "cell_type": "code",
   "execution_count": null,
   "id": "df7e5518",
   "metadata": {},
   "outputs": [],
   "source": []
  }
 ],
 "metadata": {
  "kernelspec": {
   "display_name": "Python 3",
   "language": "python",
   "name": "python3"
  },
  "language_info": {
   "codemirror_mode": {
    "name": "ipython",
    "version": 3
   },
   "file_extension": ".py",
   "mimetype": "text/x-python",
   "name": "python",
   "nbconvert_exporter": "python",
   "pygments_lexer": "ipython3",
   "version": "3.8.8"
  }
 },
 "nbformat": 4,
 "nbformat_minor": 5
}
